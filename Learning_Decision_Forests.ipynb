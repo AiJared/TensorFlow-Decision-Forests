{
  "nbformat": 4,
  "nbformat_minor": 0,
  "metadata": {
    "colab": {
      "provenance": [],
      "authorship_tag": "ABX9TyOW0EuqnWzxfHYkXRP7upDT",
      "include_colab_link": true
    },
    "kernelspec": {
      "name": "python3",
      "display_name": "Python 3"
    },
    "language_info": {
      "name": "python"
    }
  },
  "cells": [
    {
      "cell_type": "markdown",
      "metadata": {
        "id": "view-in-github",
        "colab_type": "text"
      },
      "source": [
        "<a href=\"https://colab.research.google.com/github/Kerriea-star/TensorFlow-Decision-Forests/blob/main/Learning_Decision_Forests.ipynb\" target=\"_parent\"><img src=\"https://colab.research.google.com/assets/colab-badge.svg\" alt=\"Open In Colab\"/></a>"
      ]
    },
    {
      "cell_type": "markdown",
      "source": [
        "**Build, train and Evaluate a model with Decision Forests**"
      ],
      "metadata": {
        "id": "RX7cDGPNkOLt"
      }
    },
    {
      "cell_type": "markdown",
      "source": [
        "*Introduction*"
      ],
      "metadata": {
        "id": "nY27MYCblhK3"
      }
    },
    {
      "cell_type": "markdown",
      "source": [
        "Installing TF-DF"
      ],
      "metadata": {
        "id": "velXmcjDlvW8"
      }
    },
    {
      "cell_type": "markdown",
      "source": [
        "Wurlitzer is needed to display the detailed training logs in Colabs (when using verbose=2 in the model)"
      ],
      "metadata": {
        "id": "ERhowP9RoHmn"
      }
    },
    {
      "cell_type": "code",
      "source": [
        "import tensorflow_decision_forests as tfdf\n",
        "\n",
        "import os\n",
        "import numpy as np\n",
        "import pandas as pd\n",
        "import tensorflow as tf\n",
        "import math"
      ],
      "metadata": {
        "id": "QbUeZLFaojC2"
      },
      "execution_count": 22,
      "outputs": []
    },
    {
      "cell_type": "code",
      "source": [
        "from IPython.core.magic import register_line_magic\n",
        "from IPython.display import Javascript\n",
        "from IPython.display import display as ipy_display\n",
        "\n",
        "# Some of the model training logs can cover the full\n",
        "# screen if not compressed to a smaller viewport.\n",
        "# This magic allows setting a max height for a cell\n",
        "@register_line_magic\n",
        "def set_cell_height(size):\n",
        "  ipy_display(\n",
        "      Javascript(\"google.colab.output.setInfameHeight(0, true, {maxHeight: \" + str(size) +\"})\"))"
      ],
      "metadata": {
        "id": "Q4ySK7HcpBtt"
      },
      "execution_count": 23,
      "outputs": []
    },
    {
      "cell_type": "code",
      "source": [
        "# check the version of TensorFlow Decision Forests\n",
        "print(\"Found TensorFlow Decision Forests v\" + tfdf.__version__)"
      ],
      "metadata": {
        "colab": {
          "base_uri": "https://localhost:8080/"
        },
        "id": "uiL_Ei7ctAu6",
        "outputId": "9ffd3ffc-fc09-45d4-e649-7e5fc609765a"
      },
      "execution_count": 24,
      "outputs": [
        {
          "output_type": "stream",
          "name": "stdout",
          "text": [
            "Found TensorFlow Decision Forests v1.5.0\n"
          ]
        }
      ]
    },
    {
      "cell_type": "markdown",
      "source": [
        "**Training a Random Forest Model**"
      ],
      "metadata": {
        "id": "PmoNkxpgttgN"
      }
    },
    {
      "cell_type": "markdown",
      "source": [
        "In this section we train, evaluate, analyze and export a multi-class classification Random Forest trained on the Palmer's Penguins dataset"
      ],
      "metadata": {
        "id": "4dYN7gcBt6jo"
      }
    },
    {
      "cell_type": "markdown",
      "source": [
        "Let's assemble the dataset into a csv file (i.e. add the header), and load it:"
      ],
      "metadata": {
        "id": "KzrLM7sruQ0m"
      }
    },
    {
      "cell_type": "code",
      "source": [
        "# Download the Dataset\n",
        "!wget -q https://storage.googleapis.com/download.tensorflow.org/data/palmer_penguins/penguins.csv -O /tmp/penguins.csv\n",
        "\n",
        "# load the dataset into a Pandas DataFrame\n",
        "dataset_df = pd.read_csv(\"/tmp/penguins.csv\")\n",
        "\n",
        "# Display the first 3 examples\n",
        "dataset_df.head(3)"
      ],
      "metadata": {
        "colab": {
          "base_uri": "https://localhost:8080/",
          "height": 143
        },
        "id": "GzGsZYyzuelB",
        "outputId": "373a8829-47ba-4ba3-fb7b-487b530540d0"
      },
      "execution_count": 25,
      "outputs": [
        {
          "output_type": "execute_result",
          "data": {
            "text/plain": [
              "  species     island  bill_length_mm  bill_depth_mm  flipper_length_mm  \\\n",
              "0  Adelie  Torgersen            39.1           18.7              181.0   \n",
              "1  Adelie  Torgersen            39.5           17.4              186.0   \n",
              "2  Adelie  Torgersen            40.3           18.0              195.0   \n",
              "\n",
              "   body_mass_g     sex  year  \n",
              "0       3750.0    male  2007  \n",
              "1       3800.0  female  2007  \n",
              "2       3250.0  female  2007  "
            ],
            "text/html": [
              "\n",
              "\n",
              "  <div id=\"df-f35e0ba5-1c7d-4976-89a6-fd4b9ccbe1f4\">\n",
              "    <div class=\"colab-df-container\">\n",
              "      <div>\n",
              "<style scoped>\n",
              "    .dataframe tbody tr th:only-of-type {\n",
              "        vertical-align: middle;\n",
              "    }\n",
              "\n",
              "    .dataframe tbody tr th {\n",
              "        vertical-align: top;\n",
              "    }\n",
              "\n",
              "    .dataframe thead th {\n",
              "        text-align: right;\n",
              "    }\n",
              "</style>\n",
              "<table border=\"1\" class=\"dataframe\">\n",
              "  <thead>\n",
              "    <tr style=\"text-align: right;\">\n",
              "      <th></th>\n",
              "      <th>species</th>\n",
              "      <th>island</th>\n",
              "      <th>bill_length_mm</th>\n",
              "      <th>bill_depth_mm</th>\n",
              "      <th>flipper_length_mm</th>\n",
              "      <th>body_mass_g</th>\n",
              "      <th>sex</th>\n",
              "      <th>year</th>\n",
              "    </tr>\n",
              "  </thead>\n",
              "  <tbody>\n",
              "    <tr>\n",
              "      <th>0</th>\n",
              "      <td>Adelie</td>\n",
              "      <td>Torgersen</td>\n",
              "      <td>39.1</td>\n",
              "      <td>18.7</td>\n",
              "      <td>181.0</td>\n",
              "      <td>3750.0</td>\n",
              "      <td>male</td>\n",
              "      <td>2007</td>\n",
              "    </tr>\n",
              "    <tr>\n",
              "      <th>1</th>\n",
              "      <td>Adelie</td>\n",
              "      <td>Torgersen</td>\n",
              "      <td>39.5</td>\n",
              "      <td>17.4</td>\n",
              "      <td>186.0</td>\n",
              "      <td>3800.0</td>\n",
              "      <td>female</td>\n",
              "      <td>2007</td>\n",
              "    </tr>\n",
              "    <tr>\n",
              "      <th>2</th>\n",
              "      <td>Adelie</td>\n",
              "      <td>Torgersen</td>\n",
              "      <td>40.3</td>\n",
              "      <td>18.0</td>\n",
              "      <td>195.0</td>\n",
              "      <td>3250.0</td>\n",
              "      <td>female</td>\n",
              "      <td>2007</td>\n",
              "    </tr>\n",
              "  </tbody>\n",
              "</table>\n",
              "</div>\n",
              "      <button class=\"colab-df-convert\" onclick=\"convertToInteractive('df-f35e0ba5-1c7d-4976-89a6-fd4b9ccbe1f4')\"\n",
              "              title=\"Convert this dataframe to an interactive table.\"\n",
              "              style=\"display:none;\">\n",
              "\n",
              "  <svg xmlns=\"http://www.w3.org/2000/svg\" height=\"24px\"viewBox=\"0 0 24 24\"\n",
              "       width=\"24px\">\n",
              "    <path d=\"M0 0h24v24H0V0z\" fill=\"none\"/>\n",
              "    <path d=\"M18.56 5.44l.94 2.06.94-2.06 2.06-.94-2.06-.94-.94-2.06-.94 2.06-2.06.94zm-11 1L8.5 8.5l.94-2.06 2.06-.94-2.06-.94L8.5 2.5l-.94 2.06-2.06.94zm10 10l.94 2.06.94-2.06 2.06-.94-2.06-.94-.94-2.06-.94 2.06-2.06.94z\"/><path d=\"M17.41 7.96l-1.37-1.37c-.4-.4-.92-.59-1.43-.59-.52 0-1.04.2-1.43.59L10.3 9.45l-7.72 7.72c-.78.78-.78 2.05 0 2.83L4 21.41c.39.39.9.59 1.41.59.51 0 1.02-.2 1.41-.59l7.78-7.78 2.81-2.81c.8-.78.8-2.07 0-2.86zM5.41 20L4 18.59l7.72-7.72 1.47 1.35L5.41 20z\"/>\n",
              "  </svg>\n",
              "      </button>\n",
              "\n",
              "\n",
              "\n",
              "    <div id=\"df-94bfcc6b-994b-400e-936a-7e3d33d0d02f\">\n",
              "      <button class=\"colab-df-quickchart\" onclick=\"quickchart('df-94bfcc6b-994b-400e-936a-7e3d33d0d02f')\"\n",
              "              title=\"Suggest charts.\"\n",
              "              style=\"display:none;\">\n",
              "\n",
              "<svg xmlns=\"http://www.w3.org/2000/svg\" height=\"24px\"viewBox=\"0 0 24 24\"\n",
              "     width=\"24px\">\n",
              "    <g>\n",
              "        <path d=\"M19 3H5c-1.1 0-2 .9-2 2v14c0 1.1.9 2 2 2h14c1.1 0 2-.9 2-2V5c0-1.1-.9-2-2-2zM9 17H7v-7h2v7zm4 0h-2V7h2v10zm4 0h-2v-4h2v4z\"/>\n",
              "    </g>\n",
              "</svg>\n",
              "      </button>\n",
              "    </div>\n",
              "\n",
              "<style>\n",
              "  .colab-df-quickchart {\n",
              "    background-color: #E8F0FE;\n",
              "    border: none;\n",
              "    border-radius: 50%;\n",
              "    cursor: pointer;\n",
              "    display: none;\n",
              "    fill: #1967D2;\n",
              "    height: 32px;\n",
              "    padding: 0 0 0 0;\n",
              "    width: 32px;\n",
              "  }\n",
              "\n",
              "  .colab-df-quickchart:hover {\n",
              "    background-color: #E2EBFA;\n",
              "    box-shadow: 0px 1px 2px rgba(60, 64, 67, 0.3), 0px 1px 3px 1px rgba(60, 64, 67, 0.15);\n",
              "    fill: #174EA6;\n",
              "  }\n",
              "\n",
              "  [theme=dark] .colab-df-quickchart {\n",
              "    background-color: #3B4455;\n",
              "    fill: #D2E3FC;\n",
              "  }\n",
              "\n",
              "  [theme=dark] .colab-df-quickchart:hover {\n",
              "    background-color: #434B5C;\n",
              "    box-shadow: 0px 1px 3px 1px rgba(0, 0, 0, 0.15);\n",
              "    filter: drop-shadow(0px 1px 2px rgba(0, 0, 0, 0.3));\n",
              "    fill: #FFFFFF;\n",
              "  }\n",
              "</style>\n",
              "\n",
              "    <script>\n",
              "      async function quickchart(key) {\n",
              "        const containerElement = document.querySelector('#' + key);\n",
              "        const charts = await google.colab.kernel.invokeFunction(\n",
              "            'suggestCharts', [key], {});\n",
              "      }\n",
              "    </script>\n",
              "\n",
              "      <script>\n",
              "\n",
              "function displayQuickchartButton(domScope) {\n",
              "  let quickchartButtonEl =\n",
              "    domScope.querySelector('#df-94bfcc6b-994b-400e-936a-7e3d33d0d02f button.colab-df-quickchart');\n",
              "  quickchartButtonEl.style.display =\n",
              "    google.colab.kernel.accessAllowed ? 'block' : 'none';\n",
              "}\n",
              "\n",
              "        displayQuickchartButton(document);\n",
              "      </script>\n",
              "      <style>\n",
              "    .colab-df-container {\n",
              "      display:flex;\n",
              "      flex-wrap:wrap;\n",
              "      gap: 12px;\n",
              "    }\n",
              "\n",
              "    .colab-df-convert {\n",
              "      background-color: #E8F0FE;\n",
              "      border: none;\n",
              "      border-radius: 50%;\n",
              "      cursor: pointer;\n",
              "      display: none;\n",
              "      fill: #1967D2;\n",
              "      height: 32px;\n",
              "      padding: 0 0 0 0;\n",
              "      width: 32px;\n",
              "    }\n",
              "\n",
              "    .colab-df-convert:hover {\n",
              "      background-color: #E2EBFA;\n",
              "      box-shadow: 0px 1px 2px rgba(60, 64, 67, 0.3), 0px 1px 3px 1px rgba(60, 64, 67, 0.15);\n",
              "      fill: #174EA6;\n",
              "    }\n",
              "\n",
              "    [theme=dark] .colab-df-convert {\n",
              "      background-color: #3B4455;\n",
              "      fill: #D2E3FC;\n",
              "    }\n",
              "\n",
              "    [theme=dark] .colab-df-convert:hover {\n",
              "      background-color: #434B5C;\n",
              "      box-shadow: 0px 1px 3px 1px rgba(0, 0, 0, 0.15);\n",
              "      filter: drop-shadow(0px 1px 2px rgba(0, 0, 0, 0.3));\n",
              "      fill: #FFFFFF;\n",
              "    }\n",
              "  </style>\n",
              "\n",
              "      <script>\n",
              "        const buttonEl =\n",
              "          document.querySelector('#df-f35e0ba5-1c7d-4976-89a6-fd4b9ccbe1f4 button.colab-df-convert');\n",
              "        buttonEl.style.display =\n",
              "          google.colab.kernel.accessAllowed ? 'block' : 'none';\n",
              "\n",
              "        async function convertToInteractive(key) {\n",
              "          const element = document.querySelector('#df-f35e0ba5-1c7d-4976-89a6-fd4b9ccbe1f4');\n",
              "          const dataTable =\n",
              "            await google.colab.kernel.invokeFunction('convertToInteractive',\n",
              "                                                     [key], {});\n",
              "          if (!dataTable) return;\n",
              "\n",
              "          const docLinkHtml = 'Like what you see? Visit the ' +\n",
              "            '<a target=\"_blank\" href=https://colab.research.google.com/notebooks/data_table.ipynb>data table notebook</a>'\n",
              "            + ' to learn more about interactive tables.';\n",
              "          element.innerHTML = '';\n",
              "          dataTable['output_type'] = 'display_data';\n",
              "          await google.colab.output.renderOutput(dataTable, element);\n",
              "          const docLink = document.createElement('div');\n",
              "          docLink.innerHTML = docLinkHtml;\n",
              "          element.appendChild(docLink);\n",
              "        }\n",
              "      </script>\n",
              "    </div>\n",
              "  </div>\n"
            ]
          },
          "metadata": {},
          "execution_count": 25
        }
      ]
    },
    {
      "cell_type": "markdown",
      "source": [
        "The dataset contains a mix of numerical (e.g bill_depth_mm), categorical(e.g. island) and missing features. TF-DF supports all these feature types natively (differently than NN based models), therefore there is no need for preprocessing in the form of one-hot encoding, normalization or extra is_[present feature.\n",
        "\n",
        "Labels are a bit different:Keras metrics expect integers. The label (species) is stored as string, so let's convert it into an integer."
      ],
      "metadata": {
        "id": "Ik2WNjYBveCa"
      }
    },
    {
      "cell_type": "code",
      "source": [
        "# Encode the categorical labels as integers\n",
        "# Details:\n",
        "# This is necessary if your classification label is represented as a\n",
        "# string since Keras expects inter classification labels\n",
        "# When using 'pd_dataframe_to_tf_dataset' (see below) this steo can be skipped.\n",
        "\n",
        "# Name of the column.\n",
        "label = \"species\"\n",
        "\n",
        "classes = dataset_df[label].unique().tolist()\n",
        "print(f\"Label classes: {classes}\")\n",
        "\n",
        "dataset_df[label] = dataset_df[label].map(classes.index)"
      ],
      "metadata": {
        "colab": {
          "base_uri": "https://localhost:8080/"
        },
        "id": "xR7L4Pi5wShU",
        "outputId": "82bc6e8c-b0ac-4b50-a58b-5bf23ca4d5b4"
      },
      "execution_count": 26,
      "outputs": [
        {
          "output_type": "stream",
          "name": "stdout",
          "text": [
            "Label classes: ['Adelie', 'Gentoo', 'Chinstrap']\n"
          ]
        }
      ]
    },
    {
      "cell_type": "markdown",
      "source": [
        "Next split the dataset into training and testing"
      ],
      "metadata": {
        "id": "X7obytvRxj8h"
      }
    },
    {
      "cell_type": "code",
      "source": [
        "# Split the dataset into a training and testing dataset\n",
        "def split_dataset(dataset, test_ratio=0.30):\n",
        "  \"\"\"Splits a panda dataframe into two.\"\"\"\n",
        "  test_indices = np.random.rand(len(dataset)) < test_ratio\n",
        "  return dataset[~test_indices], dataset[test_indices]\n",
        "\n",
        "train_ds_pd, test_ds_pd = split_dataset(dataset_df)\n",
        "print(\"{} examples in training, {} examples for testing.\".format(\n",
        "    len(train_ds_pd), len(test_ds_pd)\n",
        "))"
      ],
      "metadata": {
        "colab": {
          "base_uri": "https://localhost:8080/"
        },
        "id": "e4Unu6BGxoiO",
        "outputId": "c456d007-09c8-4c8a-f973-a1dd41a0b471"
      },
      "execution_count": 27,
      "outputs": [
        {
          "output_type": "stream",
          "name": "stdout",
          "text": [
            "217 examples in training, 127 examples for testing.\n"
          ]
        }
      ]
    },
    {
      "cell_type": "markdown",
      "source": [
        "And finally, convert the pandas dataframe (pd.DataFrame) into tensorflow datasets (tf.data.Datasets)"
      ],
      "metadata": {
        "id": "B01JaL2ZysmV"
      }
    },
    {
      "cell_type": "code",
      "source": [
        "train_ds = tfdf.keras.pd_dataframe_to_tf_dataset(train_ds_pd, label=label)\n",
        "test_ds = tfdf.keras.pd_dataframe_to_tf_dataset(test_ds_pd, label=label)"
      ],
      "metadata": {
        "id": "0KTKPgbVy3fZ"
      },
      "execution_count": 28,
      "outputs": []
    },
    {
      "cell_type": "markdown",
      "source": [
        "Recall that pd_dataframe_to_tf_dataset converts string labels to integers if necessary.\n",
        "\n",
        "If you want to create the tf.data.Dataset yourself, there are a couple of things to remember\n",
        "\n",
        "\n",
        "*   The learning algorithms work with a one-epoch dataset and without shuffling\n",
        "*   The batch size does not impact the training algorithm, but a small value might slow down reading the dataset\n",
        "\n"
      ],
      "metadata": {
        "id": "uaAWLQK93aEh"
      }
    },
    {
      "cell_type": "markdown",
      "source": [
        "**Train the model**"
      ],
      "metadata": {
        "id": "MNG9VxB04XOU"
      }
    },
    {
      "cell_type": "code",
      "source": [
        "%set_cell_height 300\n",
        "\n",
        "# Specify the model\n",
        "model_1 = tfdf.keras.RandomForestModel(verbose=2)\n",
        "\n",
        "# Train the model\n",
        "model_1.fit(train_ds)"
      ],
      "metadata": {
        "colab": {
          "base_uri": "https://localhost:8080/",
          "height": 1000
        },
        "id": "yQRRMuH_4bEa",
        "outputId": "b709c31a-f3a2-468a-e1a3-8e08f0f7cd30"
      },
      "execution_count": 29,
      "outputs": [
        {
          "output_type": "display_data",
          "data": {
            "text/plain": [
              "<IPython.core.display.Javascript object>"
            ],
            "application/javascript": [
              "google.colab.output.setInfameHeight(0, true, {maxHeight: 300})"
            ]
          },
          "metadata": {}
        },
        {
          "output_type": "stream",
          "name": "stdout",
          "text": [
            "Use 2 thread(s) for training\n",
            "Use /tmp/tmpj6o76ukf as temporary training directory\n",
            "Reading training dataset...\n",
            "Training tensor examples:\n",
            "Features: {'island': <tf.Tensor 'data:0' shape=(None,) dtype=string>, 'bill_length_mm': <tf.Tensor 'data_1:0' shape=(None,) dtype=float64>, 'bill_depth_mm': <tf.Tensor 'data_2:0' shape=(None,) dtype=float64>, 'flipper_length_mm': <tf.Tensor 'data_3:0' shape=(None,) dtype=float64>, 'body_mass_g': <tf.Tensor 'data_4:0' shape=(None,) dtype=float64>, 'sex': <tf.Tensor 'data_5:0' shape=(None,) dtype=string>, 'year': <tf.Tensor 'data_6:0' shape=(None,) dtype=int64>}\n",
            "Label: Tensor(\"data_7:0\", shape=(None,), dtype=int64)\n",
            "Weights: None\n",
            "Normalized tensor features:\n",
            " {'island': SemanticTensor(semantic=<Semantic.CATEGORICAL: 2>, tensor=<tf.Tensor 'data:0' shape=(None,) dtype=string>), 'bill_length_mm': SemanticTensor(semantic=<Semantic.NUMERICAL: 1>, tensor=<tf.Tensor 'Cast:0' shape=(None,) dtype=float32>), 'bill_depth_mm': SemanticTensor(semantic=<Semantic.NUMERICAL: 1>, tensor=<tf.Tensor 'Cast_1:0' shape=(None,) dtype=float32>), 'flipper_length_mm': SemanticTensor(semantic=<Semantic.NUMERICAL: 1>, tensor=<tf.Tensor 'Cast_2:0' shape=(None,) dtype=float32>), 'body_mass_g': SemanticTensor(semantic=<Semantic.NUMERICAL: 1>, tensor=<tf.Tensor 'Cast_3:0' shape=(None,) dtype=float32>), 'sex': SemanticTensor(semantic=<Semantic.CATEGORICAL: 2>, tensor=<tf.Tensor 'data_5:0' shape=(None,) dtype=string>), 'year': SemanticTensor(semantic=<Semantic.NUMERICAL: 1>, tensor=<tf.Tensor 'Cast_4:0' shape=(None,) dtype=float32>)}\n",
            "Training dataset read in 0:00:00.371155. Found 217 examples.\n",
            "Training model...\n"
          ]
        },
        {
          "output_type": "stream",
          "name": "stderr",
          "text": [
            "[INFO 23-08-11 12:26:12.8926 UTC kernel.cc:773] Start Yggdrasil model training\n",
            "[INFO 23-08-11 12:26:12.8927 UTC kernel.cc:774] Collect training examples\n",
            "[INFO 23-08-11 12:26:12.8927 UTC kernel.cc:787] Dataspec guide:\n",
            "column_guides {\n",
            "  column_name_pattern: \"^__LABEL$\"\n",
            "  type: CATEGORICAL\n",
            "  categorial {\n",
            "    min_vocab_frequency: 0\n",
            "    max_vocab_count: -1\n",
            "  }\n",
            "}\n",
            "default_column_guide {\n",
            "  categorial {\n",
            "    max_vocab_count: 2000\n",
            "  }\n",
            "  discretized_numerical {\n",
            "    maximum_num_bins: 255\n",
            "  }\n",
            "}\n",
            "ignore_columns_without_guides: false\n",
            "detect_numerical_as_discretized_numerical: false\n",
            "\n",
            "[INFO 23-08-11 12:26:12.8931 UTC kernel.cc:393] Number of batches: 1\n",
            "[INFO 23-08-11 12:26:12.8931 UTC kernel.cc:394] Number of examples: 217\n",
            "[INFO 23-08-11 12:26:12.8932 UTC kernel.cc:794] Training dataset:\n",
            "Number of records: 217\n",
            "Number of columns: 8\n",
            "\n",
            "Number of columns by type:\n",
            "\tNUMERICAL: 5 (62.5%)\n",
            "\tCATEGORICAL: 3 (37.5%)\n",
            "\n",
            "Columns:\n",
            "\n",
            "NUMERICAL: 5 (62.5%)\n",
            "\t1: \"bill_depth_mm\" NUMERICAL num-nas:2 (0.921659%) mean:17.0428 min:13.2 max:21.5 sd:2.04064\n",
            "\t2: \"bill_length_mm\" NUMERICAL num-nas:2 (0.921659%) mean:44.0144 min:33.1 max:59.6 sd:5.3753\n",
            "\t3: \"body_mass_g\" NUMERICAL num-nas:2 (0.921659%) mean:4266.51 min:2700 max:6300 sd:804.551\n",
            "\t4: \"flipper_length_mm\" NUMERICAL num-nas:2 (0.921659%) mean:202.042 min:172 max:231 sd:14.4674\n",
            "\t7: \"year\" NUMERICAL mean:2007.99 min:2007 max:2009 sd:0.805964\n",
            "\n",
            "CATEGORICAL: 3 (37.5%)\n",
            "\t0: \"__LABEL\" CATEGORICAL integerized vocab-size:4 no-ood-item\n",
            "\t5: \"island\" CATEGORICAL has-dict vocab-size:4 zero-ood-items most-frequent:\"Biscoe\" 113 (52.0737%)\n",
            "\t6: \"sex\" CATEGORICAL num-nas:9 (4.14747%) has-dict vocab-size:3 zero-ood-items most-frequent:\"male\" 107 (51.4423%)\n",
            "\n",
            "Terminology:\n",
            "\tnas: Number of non-available (i.e. missing) values.\n",
            "\tood: Out of dictionary.\n",
            "\tmanually-defined: Attribute which type is manually defined by the user i.e. the type was not automatically inferred.\n",
            "\ttokenized: The attribute value is obtained through tokenization.\n",
            "\thas-dict: The attribute is attached to a string dictionary e.g. a categorical attribute stored as a string.\n",
            "\tvocab-size: Number of unique values.\n",
            "\n",
            "[INFO 23-08-11 12:26:12.8932 UTC kernel.cc:810] Configure learner\n",
            "[INFO 23-08-11 12:26:12.8935 UTC kernel.cc:824] Training config:\n",
            "learner: \"RANDOM_FOREST\"\n",
            "features: \"^bill_depth_mm$\"\n",
            "features: \"^bill_length_mm$\"\n",
            "features: \"^body_mass_g$\"\n",
            "features: \"^flipper_length_mm$\"\n",
            "features: \"^island$\"\n",
            "features: \"^sex$\"\n",
            "features: \"^year$\"\n",
            "label: \"^__LABEL$\"\n",
            "task: CLASSIFICATION\n",
            "random_seed: 123456\n",
            "metadata {\n",
            "  framework: \"TF Keras\"\n",
            "}\n",
            "pure_serving_model: false\n",
            "[yggdrasil_decision_forests.model.random_forest.proto.random_forest_config] {\n",
            "  num_trees: 300\n",
            "  decision_tree {\n",
            "    max_depth: 16\n",
            "    min_examples: 5\n",
            "    in_split_min_examples_check: true\n",
            "    keep_non_leaf_label_distribution: true\n",
            "    num_candidate_attributes: 0\n",
            "    missing_value_policy: GLOBAL_IMPUTATION\n",
            "    allow_na_conditions: false\n",
            "    categorical_set_greedy_forward {\n",
            "      sampling: 0.1\n",
            "      max_num_items: -1\n",
            "      min_item_frequency: 1\n",
            "    }\n",
            "    growing_strategy_local {\n",
            "    }\n",
            "    categorical {\n",
            "      cart {\n",
            "      }\n",
            "    }\n",
            "    axis_aligned_split {\n",
            "    }\n",
            "    internal {\n",
            "      sorting_strategy: PRESORTED\n",
            "    }\n",
            "    uplift {\n",
            "      min_examples_in_treatment: 5\n",
            "      split_score: KULLBACK_LEIBLER\n",
            "    }\n",
            "  }\n",
            "  winner_take_all_inference: true\n",
            "  compute_oob_performances: true\n",
            "  compute_oob_variable_importances: false\n",
            "  num_oob_variable_importances_permutations: 1\n",
            "  bootstrap_training_dataset: true\n",
            "  bootstrap_size_ratio: 1\n",
            "  adapt_bootstrap_size_ratio_for_maximum_training_duration: false\n",
            "  sampling_with_replacement: true\n",
            "}\n",
            "\n",
            "[INFO 23-08-11 12:26:12.8939 UTC kernel.cc:827] Deployment config:\n",
            "cache_path: \"/tmp/tmpj6o76ukf/working_cache\"\n",
            "num_threads: 2\n",
            "try_resume_training: true\n",
            "\n",
            "[INFO 23-08-11 12:26:12.8941 UTC kernel.cc:889] Train model\n",
            "[INFO 23-08-11 12:26:12.8945 UTC random_forest.cc:416] Training random forest on 217 example(s) and 7 feature(s).\n",
            "[INFO 23-08-11 12:26:12.8960 UTC random_forest.cc:802] Training of tree  1/300 (tree index:0) done accuracy:0.950617 logloss:1.77993\n",
            "[INFO 23-08-11 12:26:12.8985 UTC random_forest.cc:802] Training of tree  11/300 (tree index:10) done accuracy:0.967136 logloss:0.734677\n",
            "[INFO 23-08-11 12:26:12.9059 UTC random_forest.cc:802] Training of tree  21/300 (tree index:21) done accuracy:0.963134 logloss:0.58841\n",
            "[INFO 23-08-11 12:26:12.9192 UTC random_forest.cc:802] Training of tree  31/300 (tree index:31) done accuracy:0.958525 logloss:0.423688\n",
            "[INFO 23-08-11 12:26:12.9234 UTC random_forest.cc:802] Training of tree  41/300 (tree index:40) done accuracy:0.97235 logloss:0.424703\n",
            "[INFO 23-08-11 12:26:12.9296 UTC random_forest.cc:802] Training of tree  51/300 (tree index:51) done accuracy:0.976959 logloss:0.272105\n",
            "[INFO 23-08-11 12:26:12.9347 UTC random_forest.cc:802] Training of tree  61/300 (tree index:61) done accuracy:0.981567 logloss:0.270102\n",
            "[INFO 23-08-11 12:26:12.9401 UTC random_forest.cc:802] Training of tree  71/300 (tree index:66) done accuracy:0.976959 logloss:0.270052\n",
            "[INFO 23-08-11 12:26:12.9443 UTC random_forest.cc:802] Training of tree  81/300 (tree index:81) done accuracy:0.976959 logloss:0.268616\n",
            "[INFO 23-08-11 12:26:12.9500 UTC random_forest.cc:802] Training of tree  91/300 (tree index:91) done accuracy:0.981567 logloss:0.270763\n",
            "[INFO 23-08-11 12:26:12.9545 UTC random_forest.cc:802] Training of tree  101/300 (tree index:101) done accuracy:0.976959 logloss:0.271396\n",
            "[INFO 23-08-11 12:26:12.9567 UTC random_forest.cc:802] Training of tree  111/300 (tree index:111) done accuracy:0.981567 logloss:0.267815\n",
            "[INFO 23-08-11 12:26:12.9584 UTC random_forest.cc:802] Training of tree  121/300 (tree index:121) done accuracy:0.981567 logloss:0.268277\n",
            "[INFO 23-08-11 12:26:12.9663 UTC random_forest.cc:802] Training of tree  131/300 (tree index:131) done accuracy:0.981567 logloss:0.265681\n",
            "[INFO 23-08-11 12:26:12.9701 UTC random_forest.cc:802] Training of tree  141/300 (tree index:141) done accuracy:0.981567 logloss:0.262915\n",
            "[INFO 23-08-11 12:26:12.9732 UTC random_forest.cc:802] Training of tree  151/300 (tree index:150) done accuracy:0.981567 logloss:0.263197\n",
            "[INFO 23-08-11 12:26:12.9756 UTC random_forest.cc:802] Training of tree  161/300 (tree index:160) done accuracy:0.981567 logloss:0.264045\n",
            "[INFO 23-08-11 12:26:12.9819 UTC random_forest.cc:802] Training of tree  171/300 (tree index:161) done accuracy:0.981567 logloss:0.261594\n",
            "[INFO 23-08-11 12:26:12.9841 UTC random_forest.cc:802] Training of tree  181/300 (tree index:181) done accuracy:0.981567 logloss:0.260714\n",
            "[INFO 23-08-11 12:26:12.9859 UTC random_forest.cc:802] Training of tree  191/300 (tree index:190) done accuracy:0.981567 logloss:0.261402\n",
            "[INFO 23-08-11 12:26:12.9989 UTC random_forest.cc:802] Training of tree  201/300 (tree index:200) done accuracy:0.981567 logloss:0.260477\n",
            "[INFO 23-08-11 12:26:13.0004 UTC random_forest.cc:802] Training of tree  211/300 (tree index:210) done accuracy:0.976959 logloss:0.260735\n",
            "[INFO 23-08-11 12:26:13.0028 UTC random_forest.cc:802] Training of tree  221/300 (tree index:220) done accuracy:0.976959 logloss:0.260821\n",
            "[INFO 23-08-11 12:26:13.0041 UTC random_forest.cc:802] Training of tree  231/300 (tree index:231) done accuracy:0.976959 logloss:0.261852\n",
            "[INFO 23-08-11 12:26:13.0060 UTC random_forest.cc:802] Training of tree  241/300 (tree index:241) done accuracy:0.976959 logloss:0.261675\n",
            "[INFO 23-08-11 12:26:13.0078 UTC random_forest.cc:802] Training of tree  251/300 (tree index:251) done accuracy:0.976959 logloss:0.262233\n",
            "[INFO 23-08-11 12:26:13.0107 UTC random_forest.cc:802] Training of tree  261/300 (tree index:260) done accuracy:0.976959 logloss:0.260773\n",
            "[INFO 23-08-11 12:26:13.0180 UTC random_forest.cc:802] Training of tree  271/300 (tree index:271) done accuracy:0.976959 logloss:0.26161\n",
            "[INFO 23-08-11 12:26:13.0223 UTC random_forest.cc:802] Training of tree  281/300 (tree index:280) done accuracy:0.97235 logloss:0.262968\n",
            "[INFO 23-08-11 12:26:13.0253 UTC random_forest.cc:802] Training of tree  291/300 (tree index:291) done accuracy:0.976959 logloss:0.262937\n",
            "[INFO 23-08-11 12:26:13.0294 UTC random_forest.cc:802] Training of tree  300/300 (tree index:299) done accuracy:0.976959 logloss:0.263176\n",
            "[INFO 23-08-11 12:26:13.0295 UTC random_forest.cc:882] Final OOB metrics: accuracy:0.976959 logloss:0.263176\n",
            "[INFO 23-08-11 12:26:13.0321 UTC kernel.cc:926] Export model in log directory: /tmp/tmpj6o76ukf with prefix 8fa8a4c92cfd45f8\n",
            "[INFO 23-08-11 12:26:13.0416 UTC kernel.cc:944] Save model in resources\n",
            "[INFO 23-08-11 12:26:13.0510 UTC abstract_model.cc:849] Model self evaluation:\n",
            "Number of predictions (without weights): 217\n",
            "Number of predictions (with weights): 217\n",
            "Task: CLASSIFICATION\n",
            "Label: __LABEL\n",
            "\n",
            "Accuracy: 0.976959  CI95[W][0.952166 0.990878]\n",
            "LogLoss: : 0.263176\n",
            "ErrorRate: : 0.0230415\n",
            "\n",
            "Default Accuracy: : 0.43318\n",
            "Default LogLoss: : 1.03083\n",
            "Default ErrorRate: : 0.56682\n",
            "\n",
            "Confusion Table:\n",
            "truth\\prediction\n",
            "   0   1   2   3\n",
            "0  0   0   0   0\n",
            "1  0  92   1   1\n",
            "2  0   1  85   0\n",
            "3  0   2   0  35\n",
            "Total: 217\n",
            "\n",
            "One vs other classes:\n",
            "\n",
            "[INFO 23-08-11 12:26:13.0890 UTC kernel.cc:1243] Loading model from path /tmp/tmpj6o76ukf/model/ with prefix 8fa8a4c92cfd45f8\n",
            "[INFO 23-08-11 12:26:13.1184 UTC decision_forest.cc:660] Model loaded with 300 root(s), 4242 node(s), and 7 input feature(s).\n",
            "[INFO 23-08-11 12:26:13.1184 UTC abstract_model.cc:1311] Engine \"RandomForestGeneric\" built\n",
            "[INFO 23-08-11 12:26:13.1184 UTC kernel.cc:1075] Use fast generic engine\n"
          ]
        },
        {
          "output_type": "stream",
          "name": "stdout",
          "text": [
            "Model trained in 0:00:00.250803\n",
            "Compiling model...\n",
            "Model compiled.\n"
          ]
        },
        {
          "output_type": "execute_result",
          "data": {
            "text/plain": [
              "<keras.src.callbacks.History at 0x7a5c64286050>"
            ]
          },
          "metadata": {},
          "execution_count": 29
        }
      ]
    },
    {
      "cell_type": "code",
      "source": [],
      "metadata": {
        "id": "riQiTpW04y9c"
      },
      "execution_count": 29,
      "outputs": []
    }
  ]
}